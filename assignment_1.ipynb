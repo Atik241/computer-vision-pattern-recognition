{
 "cells": [
  {
   "cell_type": "code",
   "execution_count": 1,
   "id": "3f8a94f6",
   "metadata": {},
   "outputs": [],
   "source": [
    "import pandas as pd"
   ]
  },
  {
   "cell_type": "code",
   "execution_count": 2,
   "id": "06393435",
   "metadata": {},
   "outputs": [],
   "source": [
    "df=pd.read_csv('data.csv')"
   ]
  },
  {
   "cell_type": "code",
   "execution_count": 3,
   "id": "24f3c467",
   "metadata": {},
   "outputs": [
    {
     "data": {
      "text/html": [
       "<div>\n",
       "<style scoped>\n",
       "    .dataframe tbody tr th:only-of-type {\n",
       "        vertical-align: middle;\n",
       "    }\n",
       "\n",
       "    .dataframe tbody tr th {\n",
       "        vertical-align: top;\n",
       "    }\n",
       "\n",
       "    .dataframe thead th {\n",
       "        text-align: right;\n",
       "    }\n",
       "</style>\n",
       "<table border=\"1\" class=\"dataframe\">\n",
       "  <thead>\n",
       "    <tr style=\"text-align: right;\">\n",
       "      <th></th>\n",
       "      <th>X1</th>\n",
       "      <th>X2</th>\n",
       "      <th>Y</th>\n",
       "    </tr>\n",
       "  </thead>\n",
       "  <tbody>\n",
       "    <tr>\n",
       "      <th>0</th>\n",
       "      <td>46</td>\n",
       "      <td>40</td>\n",
       "      <td>1</td>\n",
       "    </tr>\n",
       "    <tr>\n",
       "      <th>1</th>\n",
       "      <td>40</td>\n",
       "      <td>16</td>\n",
       "      <td>1</td>\n",
       "    </tr>\n",
       "    <tr>\n",
       "      <th>2</th>\n",
       "      <td>34</td>\n",
       "      <td>72</td>\n",
       "      <td>1</td>\n",
       "    </tr>\n",
       "    <tr>\n",
       "      <th>3</th>\n",
       "      <td>78</td>\n",
       "      <td>5</td>\n",
       "      <td>0</td>\n",
       "    </tr>\n",
       "    <tr>\n",
       "      <th>4</th>\n",
       "      <td>3</td>\n",
       "      <td>70</td>\n",
       "      <td>1</td>\n",
       "    </tr>\n",
       "    <tr>\n",
       "      <th>...</th>\n",
       "      <td>...</td>\n",
       "      <td>...</td>\n",
       "      <td>...</td>\n",
       "    </tr>\n",
       "    <tr>\n",
       "      <th>94</th>\n",
       "      <td>19</td>\n",
       "      <td>17</td>\n",
       "      <td>1</td>\n",
       "    </tr>\n",
       "    <tr>\n",
       "      <th>95</th>\n",
       "      <td>28</td>\n",
       "      <td>20</td>\n",
       "      <td>1</td>\n",
       "    </tr>\n",
       "    <tr>\n",
       "      <th>96</th>\n",
       "      <td>80</td>\n",
       "      <td>85</td>\n",
       "      <td>0</td>\n",
       "    </tr>\n",
       "    <tr>\n",
       "      <th>97</th>\n",
       "      <td>75</td>\n",
       "      <td>23</td>\n",
       "      <td>0</td>\n",
       "    </tr>\n",
       "    <tr>\n",
       "      <th>98</th>\n",
       "      <td>20</td>\n",
       "      <td>16</td>\n",
       "      <td>1</td>\n",
       "    </tr>\n",
       "  </tbody>\n",
       "</table>\n",
       "<p>99 rows × 3 columns</p>\n",
       "</div>"
      ],
      "text/plain": [
       "    X1  X2  Y\n",
       "0   46  40  1\n",
       "1   40  16  1\n",
       "2   34  72  1\n",
       "3   78   5  0\n",
       "4    3  70  1\n",
       "..  ..  .. ..\n",
       "94  19  17  1\n",
       "95  28  20  1\n",
       "96  80  85  0\n",
       "97  75  23  0\n",
       "98  20  16  1\n",
       "\n",
       "[99 rows x 3 columns]"
      ]
     },
     "execution_count": 3,
     "metadata": {},
     "output_type": "execute_result"
    }
   ],
   "source": [
    "df"
   ]
  },
  {
   "cell_type": "code",
   "execution_count": 4,
   "id": "6db96993",
   "metadata": {},
   "outputs": [
    {
     "name": "stdout",
     "output_type": "stream",
     "text": [
      "[46, 40, 34, 78, 3, 35, 75, 85, 24, 21, 34, 75, 73, 17, 100, 7, 73, 17, 79, 96, 88, 95, 72, 75, 25, 26, 6, 3, 94, 82, 4, 63, 40, 38, 12, 22, 87, 37, 10, 84, 7, 32, 83, 75, 80, 36, 29, 30, 88, 10, 15, 42, 92, 20, 7, 2, 11, 73, 65, 41, 17, 90, 75, 40, 29, 64, 83, 99, 96, 22, 72, 39, 34, 89, 71, 10, 68, 42, 73, 87, 39, 5, 12, 74, 95, 4, 17, 16, 91, 33, 1, 75, 83, 82, 19, 28, 80, 75, 20]\n",
      "[40, 16, 72, 5, 70, 76, 82, 22, 5, 73, 97, 4, 87, 26, 55, 49, 65, 29, 39, 61, 73, 77, 75, 23, 62, 86, 43, 26, 57, 78, 45, 63, 53, 24, 98, 25, 40, 84, 68, 64, 31, 52, 80, 50, 75, 51, 38, 38, 6, 52, 31, 40, 24, 53, 54, 45, 32, 62, 45, 24, 49, 4, 45, 37, 41, 60, 75, 44, 29, 32, 80, 54, 1, 33, 50, 44, 52, 40, 37, 66, 94, 82, 17, 21, 12, 25, 84, 56, 25, 91, 84, 33, 77, 85, 17, 20, 85, 23, 16]\n",
      "[1, 1, 1, 0, 1, 1, 0, 0, 1, 1, 1, 0, 0, 1, 0, 1, 0, 1, 0, 0, 0, 0, 0, 0, 1, 1, 1, 1, 0, 0, 1, 0, 1, 1, 1, 1, 0, 1, 1, 0, 1, 1, 0, 0, 0, 1, 1, 1, 0, 1, 1, 1, 0, 1, 1, 1, 1, 0, 0, 1, 1, 0, 0, 1, 1, 0, 0, 0, 0, 1, 0, 1, 1, 0, 0, 1, 0, 1, 0, 0, 1, 1, 1, 0, 0, 1, 1, 1, 0, 1, 1, 0, 0, 0, 1, 1, 0, 0, 1]\n"
     ]
    }
   ],
   "source": [
    "X1=df['X1'].values.tolist()\n",
    "X2=df['X2'].values.tolist()\n",
    "Y=df['Y'].values.tolist()\n",
    "print(X1)\n",
    "print(X2)\n",
    "print(Y)\n"
   ]
  },
  {
   "cell_type": "code",
   "execution_count": 5,
   "id": "71fa0130",
   "metadata": {},
   "outputs": [
    {
     "data": {
      "image/png": "[encoded data removed]",
      "text/plain": [
       "<Figure size 432x288 with 1 Axes>"
      ]
     },
     "metadata": {
      "needs_background": "light"
     },
     "output_type": "display_data"
    }
   ],
   "source": [
    "import matplotlib.pyplot as plt\n",
    "import math\n",
    "import random\n",
    "from IPython import display\n",
    "from scipy.signal import savgol_filter\n",
    "plt.figure()\n",
    "for i in range(len(Y)):\n",
    "    if Y[i]==0:\n",
    "        plt.plot(X1[i],X2[i], \"r+\")\n",
    "    else:\n",
    "        plt.plot(X1[i],X2[i],\"g+\")\n",
    "plt.show()"
   ]
  },
  {
   "cell_type": "code",
   "execution_count": 25,
   "id": "0d0ccaad",
   "metadata": {},
   "outputs": [
    {
     "data": {
      "image/png": "[encoded data removed]",
      "text/plain": [
       "<Figure size 1080x360 with 2 Axes>"
      ]
     },
     "metadata": {
      "needs_background": "light"
     },
     "output_type": "display_data"
    },
    {
     "name": "stdout",
     "output_type": "stream",
     "text": [
      "Epoch: 608 Loss: 0.0 and y=[-101.45996562735372, 220.51278617790706] and x=34.38996586608667\n"
     ]
    }
   ],
   "source": [
    "W=[random.random(), random.random()]\n",
    "b=random.random()\n",
    "lr=0.5\n",
    "\n",
    "theta=0.5\n",
    "epoch=0\n",
    "count=0\n",
    "loss=[]\n",
    "while count < len(X1):\n",
    "    total_error=0\n",
    "    for i in range(len(X1)):\n",
    "        ws=W[0]*X1[i]+W[1]*X2[i]+b\n",
    "        pred=0\n",
    "        if ws > theta:\n",
    "            pred=1\n",
    "        \n",
    "        error = Y[i]-pred\n",
    "        if error!=0:\n",
    "            count=0\n",
    "            total_error+=math.sqrt(error**2)\n",
    "            W[0]+=lr*error*X1[i]\n",
    "            W[1]+=lr*error*X2[i]\n",
    "            b+=lr*error\n",
    "        else:\n",
    "            count+=1\n",
    "    loss.append(1/len(X1)*total_error)\n",
    "    plt.figure(figsize=(15,5))\n",
    "    \n",
    "    display.clear_output(wait=True)\n",
    "    plt.subplot(1,2,1)\n",
    "    for i in range(len(Y)):\n",
    "        if Y[i]==0:\n",
    "            plt.plot(X1[i],X2[i], \"ro\")\n",
    "        else:\n",
    "            plt.plot(X1[i],X2[i],\"go\")\n",
    "        plt.xlim(-5,120)\n",
    "        plt.ylim(-5,120)\n",
    "        xint=(theta-b)/W[0]\n",
    "        yint=(theta-b)/W[1]\n",
    "        slope=-yint/xint\n",
    "        x=plt.xlim()\n",
    "        y=[]\n",
    "        for i in x:\n",
    "            y.append(slope*i+yint)\n",
    "        plt.plot(x,y, 'w-',linewidth=5)\n",
    "        plt.fill_between(x=[-5,120],y1=-5,y2=120, color='g',alpha=.01)\n",
    "        plt.fill_between(x=[-5,120],y1=-5,y2=y, color='#F05F5F',alpha=.4)\n",
    "        #plt.fill_between(x=[-5,120],y1=y,y2=-5, color='g')\n",
    "        \n",
    "    plt.title(f\"Epoch ={epoch} and Total Error={total_error}\")\n",
    "    plt.subplot(1,2,2)\n",
    "    plt.ylim([-.5,1])\n",
    "    plt.plot(loss, alpha=0.3)\n",
    "    if epoch > 10:\n",
    "        avg = savgol_filter(loss, 11, 3) # window size 51, polynomial order 3\n",
    "        plt.plot(avg, 'r--', lw=3)\n",
    "    \n",
    "    plt.show()\n",
    "    print(f\"Epoch: {epoch} Loss: {loss[-1]} and y={y} and x={xint}\")\n",
    "    epoch+=1"
   ]
  },
  {
   "cell_type": "code",
   "execution_count": null,
   "id": "25cf99b8",
   "metadata": {},
   "outputs": [],
   "source": []
  },
  {
   "cell_type": "code",
   "execution_count": null,
   "id": "7f20ab2d",
   "metadata": {},
   "outputs": [],
   "source": []
  },
  {
   "cell_type": "code",
   "execution_count": null,
   "id": "3fca4355",
   "metadata": {},
   "outputs": [],
   "source": []
  },
  {
   "cell_type": "code",
   "execution_count": null,
   "id": "d839a323",
   "metadata": {},
   "outputs": [],
   "source": []
  },
  {
   "cell_type": "code",
   "execution_count": null,
   "id": "c9c9baa4",
   "metadata": {},
   "outputs": [],
   "source": []
  }
 ],
 "metadata": {
  "kernelspec": {
   "display_name": "Python 3 (ipykernel)",
   "language": "python",
   "name": "python3"
  },
  "language_info": {
   "codemirror_mode": {
    "name": "ipython",
    "version": 3
   },
   "file_extension": ".py",
   "mimetype": "text/x-python",
   "name": "python",
   "nbconvert_exporter": "python",
   "pygments_lexer": "ipython3",
   "version": "3.8.0"
  }
 },
 "nbformat": 4,
 "nbformat_minor": 5
}
